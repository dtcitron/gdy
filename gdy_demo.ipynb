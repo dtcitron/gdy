{
 "metadata": {
  "name": ""
 },
 "nbformat": 3,
 "nbformat_minor": 0,
 "worksheets": [
  {
   "cells": [
    {
     "cell_type": "code",
     "collapsed": false,
     "input": [
      "from gdy import *"
     ],
     "language": "python",
     "metadata": {},
     "outputs": [],
     "prompt_number": 2
    },
    {
     "cell_type": "heading",
     "level": 3,
     "metadata": {},
     "source": [
      "Generate a graph and Substrate object"
     ]
    },
    {
     "cell_type": "code",
     "collapsed": false,
     "input": [
      "g = poisson_graph(100, 4./100, 1)\n",
      "s = Substrate(g)"
     ],
     "language": "python",
     "metadata": {},
     "outputs": [],
     "prompt_number": 2
    },
    {
     "cell_type": "heading",
     "level": 3,
     "metadata": {},
     "source": [
      "Degree distribution properties"
     ]
    },
    {
     "cell_type": "code",
     "collapsed": false,
     "input": [
      "pk = p_degree(s)\n",
      "plt.plot(pk.keys(), pk.values())"
     ],
     "language": "python",
     "metadata": {},
     "outputs": [
      {
       "metadata": {},
       "output_type": "pyout",
       "prompt_number": 3,
       "text": [
        "[<matplotlib.lines.Line2D at 0x10993cd50>]"
       ]
      },
      {
       "metadata": {},
       "output_type": "display_data",
       "png": "[encoded data removed]",
       "text": [
        "<matplotlib.figure.Figure at 0x1017e8950>"
       ]
      }
     ],
     "prompt_number": 3
    },
    {
     "cell_type": "code",
     "collapsed": false,
     "input": [
      "# first and second moments of degree distribution\n",
      "mean_degree(s), std_degree(s)"
     ],
     "language": "python",
     "metadata": {},
     "outputs": [
      {
       "metadata": {},
       "output_type": "pyout",
       "prompt_number": 4,
       "text": [
        "(4.1600000000000001, 21.120000000000001)"
       ]
      }
     ],
     "prompt_number": 4
    },
    {
     "cell_type": "heading",
     "level": 3,
     "metadata": {},
     "source": [
      "Manipulate Substrate status vector"
     ]
    },
    {
     "cell_type": "code",
     "collapsed": false,
     "input": [
      "s.initstatus()\n",
      "s.getstatus()"
     ],
     "language": "python",
     "metadata": {},
     "outputs": [
      {
       "metadata": {},
       "output_type": "pyout",
       "prompt_number": 5,
       "text": [
        "array([ 0.,  0.,  0.,  0.,  0.,  0.,  0.,  0.,  0.,  0.,  0.,  0.,  0.,\n",
        "        0.,  0.,  0.,  0.,  0.,  0.,  0.,  0.,  0.,  0.,  0.,  0.,  0.,\n",
        "        0.,  0.,  0.,  0.,  0.,  0.,  0.,  0.,  0.,  0.,  0.,  0.,  0.,\n",
        "        0.,  0.,  0.,  0.,  0.,  0.,  0.,  0.,  0.,  0.,  0.,  0.,  0.,\n",
        "        0.,  0.,  0.,  0.,  0.,  0.,  0.,  0.,  0.,  0.,  0.,  0.,  0.,\n",
        "        0.,  0.,  0.,  0.,  0.,  0.,  0.,  0.,  0.,  0.,  0.,  0.,  0.,\n",
        "        0.,  0.,  0.,  0.,  0.,  0.,  0.,  0.,  0.,  0.,  0.,  0.,  0.,\n",
        "        0.,  0.,  0.,  0.,  0.,  0.,  0.,  0.,  0.])"
       ]
      }
     ],
     "prompt_number": 5
    },
    {
     "cell_type": "code",
     "collapsed": false,
     "input": [
      "s.infect_n(50)\n",
      "s.getstatus()"
     ],
     "language": "python",
     "metadata": {},
     "outputs": [
      {
       "metadata": {},
       "output_type": "pyout",
       "prompt_number": 29,
       "text": [
        "array([ 1.,  0.,  1.,  1.,  1.,  1.,  0.,  1.,  1.,  1.,  1.,  1.,  0.,\n",
        "        1.,  1.,  1.,  1.,  0.,  1.,  0.,  0.,  1.,  1.,  1.,  1.,  1.,\n",
        "        0.,  1.,  0.,  0.,  1.,  0.,  1.,  1.,  1.,  1.,  0.,  0.,  0.,\n",
        "        1.,  1.,  1.,  1.,  1.,  1.,  1.,  0.,  1.,  0.,  0.,  1.,  0.,\n",
        "        1.,  0.,  1.,  0.,  1.,  0.,  1.,  0.,  1.,  0.,  0.,  1.,  1.,\n",
        "        1.,  1.,  1.,  1.,  1.,  1.,  1.,  0.,  1.,  0.,  1.,  1.,  1.,\n",
        "        0.,  1.,  1.,  0.,  1.,  1.,  0.,  1.,  1.,  0.,  1.,  1.,  1.,\n",
        "        1.,  0.,  1.,  1.,  0.,  1.,  1.,  0.,  1.])"
       ]
      }
     ],
     "prompt_number": 29
    },
    {
     "cell_type": "code",
     "collapsed": false,
     "input": [
      "status = s.getstatus()"
     ],
     "language": "python",
     "metadata": {},
     "outputs": [],
     "prompt_number": 6
    },
    {
     "cell_type": "code",
     "collapsed": false,
     "input": [
      "s.initstatus()\n",
      "s.setstatus(status)\n",
      "s.getstatus()"
     ],
     "language": "python",
     "metadata": {},
     "outputs": [
      {
       "metadata": {},
       "output_type": "pyout",
       "prompt_number": 7,
       "text": [
        "array([ 0.,  0.,  0.,  0.,  0.,  0.,  0.,  0.,  0.,  0.,  0.,  0.,  0.,\n",
        "        0.,  0.,  0.,  0.,  0.,  0.,  0.,  0.,  0.,  0.,  0.,  0.,  0.,\n",
        "        0.,  0.,  0.,  0.,  0.,  0.,  0.,  0.,  0.,  0.,  0.,  0.,  0.,\n",
        "        0.,  0.,  0.,  0.,  0.,  0.,  0.,  0.,  0.,  0.,  0.,  0.,  0.,\n",
        "        0.,  0.,  0.,  0.,  0.,  0.,  0.,  0.,  0.,  0.,  0.,  0.,  0.,\n",
        "        0.,  0.,  0.,  0.,  0.,  0.,  0.,  0.,  0.,  0.,  0.,  0.,  0.,\n",
        "        0.,  0.,  0.,  0.,  0.,  0.,  0.,  0.,  0.,  0.,  0.,  0.,  0.,\n",
        "        0.,  0.,  0.,  0.,  0.,  0.,  0.,  0.,  0.])"
       ]
      }
     ],
     "prompt_number": 7
    },
    {
     "cell_type": "code",
     "collapsed": false,
     "input": [
      "s.initstatus()\n",
      "s.infectgroup(range(0,25))\n",
      "s.getstatus()"
     ],
     "language": "python",
     "metadata": {},
     "outputs": [
      {
       "metadata": {},
       "output_type": "pyout",
       "prompt_number": 8,
       "text": [
        "array([ 1.,  1.,  1.,  1.,  1.,  1.,  1.,  1.,  1.,  1.,  1.,  1.,  1.,\n",
        "        1.,  1.,  1.,  1.,  1.,  1.,  1.,  1.,  1.,  1.,  1.,  1.,  0.,\n",
        "        0.,  0.,  0.,  0.,  0.,  0.,  0.,  0.,  0.,  0.,  0.,  0.,  0.,\n",
        "        0.,  0.,  0.,  0.,  0.,  0.,  0.,  0.,  0.,  0.,  0.,  0.,  0.,\n",
        "        0.,  0.,  0.,  0.,  0.,  0.,  0.,  0.,  0.,  0.,  0.,  0.,  0.,\n",
        "        0.,  0.,  0.,  0.,  0.,  0.,  0.,  0.,  0.,  0.,  0.,  0.,  0.,\n",
        "        0.,  0.,  0.,  0.,  0.,  0.,  0.,  0.,  0.,  0.,  0.,  0.,  0.,\n",
        "        0.,  0.,  0.,  0.,  0.,  0.,  0.,  0.,  0.])"
       ]
      }
     ],
     "prompt_number": 8
    },
    {
     "cell_type": "code",
     "collapsed": false,
     "input": [
      "s.suscgroup(range(0,25))\n",
      "s.getstatus()"
     ],
     "language": "python",
     "metadata": {},
     "outputs": [
      {
       "metadata": {},
       "output_type": "pyout",
       "prompt_number": 9,
       "text": [
        "array([ 0.,  0.,  0.,  0.,  0.,  0.,  0.,  0.,  0.,  0.,  0.,  0.,  0.,\n",
        "        0.,  0.,  0.,  0.,  0.,  0.,  0.,  0.,  0.,  0.,  0.,  0.,  0.,\n",
        "        0.,  0.,  0.,  0.,  0.,  0.,  0.,  0.,  0.,  0.,  0.,  0.,  0.,\n",
        "        0.,  0.,  0.,  0.,  0.,  0.,  0.,  0.,  0.,  0.,  0.,  0.,  0.,\n",
        "        0.,  0.,  0.,  0.,  0.,  0.,  0.,  0.,  0.,  0.,  0.,  0.,  0.,\n",
        "        0.,  0.,  0.,  0.,  0.,  0.,  0.,  0.,  0.,  0.,  0.,  0.,  0.,\n",
        "        0.,  0.,  0.,  0.,  0.,  0.,  0.,  0.,  0.,  0.,  0.,  0.,  0.,\n",
        "        0.,  0.,  0.,  0.,  0.,  0.,  0.,  0.,  0.])"
       ]
      }
     ],
     "prompt_number": 9
    },
    {
     "cell_type": "code",
     "collapsed": false,
     "input": [
      "s.infectgroup(range(0,25))\n",
      "s.rec_n(25)\n",
      "s.getstatus()"
     ],
     "language": "python",
     "metadata": {},
     "outputs": [
      {
       "metadata": {},
       "output_type": "pyout",
       "prompt_number": 10,
       "text": [
        "array([ 1.,  1.,  1.,  1.,  1.,  1.,  1.,  2.,  1.,  1.,  1.,  1.,  1.,\n",
        "        1.,  2.,  1.,  1.,  1.,  2.,  1.,  1.,  2.,  1.,  2.,  1.,  0.,\n",
        "        0.,  2.,  0.,  0.,  2.,  0.,  0.,  2.,  0.,  0.,  0.,  0.,  0.,\n",
        "        0.,  0.,  0.,  0.,  0.,  0.,  2.,  0.,  2.,  0.,  0.,  2.,  0.,\n",
        "        0.,  0.,  0.,  0.,  0.,  0.,  0.,  0.,  0.,  0.,  0.,  0.,  2.,\n",
        "        2.,  2.,  2.,  2.,  2.,  0.,  0.,  0.,  2.,  0.,  0.,  0.,  0.,\n",
        "        0.,  2.,  0.,  0.,  2.,  2.,  0.,  0.,  0.,  0.,  0.,  0.,  2.,\n",
        "        0.,  0.,  2.,  0.,  0.,  2.,  0.,  0.,  2.])"
       ]
      }
     ],
     "prompt_number": 10
    },
    {
     "cell_type": "code",
     "collapsed": false,
     "input": [
      "s.susceptibles(), s.infecteds(), s.recovereds()"
     ],
     "language": "python",
     "metadata": {},
     "outputs": [
      {
       "metadata": {},
       "output_type": "pyout",
       "prompt_number": 11,
       "text": [
        "(array([25, 26, 28, 29, 31, 32, 34, 35, 36, 37, 38, 39, 40, 41, 42, 43, 44,\n",
        "       46, 48, 49, 51, 52, 53, 54, 55, 56, 57, 58, 59, 60, 61, 62, 63, 70,\n",
        "       71, 72, 74, 75, 76, 77, 78, 80, 81, 84, 85, 86, 87, 88, 89, 91, 92,\n",
        "       94, 95, 97, 98]),\n",
        " array([ 0,  1,  2,  3,  4,  5,  6,  8,  9, 10, 11, 12, 13, 15, 16, 17, 19,\n",
        "       20, 22, 24]),\n",
        " array([ 7, 14, 18, 21, 23, 27, 30, 33, 45, 47, 50, 64, 65, 66, 67, 68, 69,\n",
        "       73, 79, 82, 83, 90, 93, 96, 99]))"
       ]
      }
     ],
     "prompt_number": 11
    },
    {
     "cell_type": "heading",
     "level": 3,
     "metadata": {},
     "source": [
      "Demonstrate SIS and SIRS updates"
     ]
    },
    {
     "cell_type": "code",
     "collapsed": false,
     "input": [
      "s.initstatus()\n",
      "s.infect_n(25)\n",
      "old = s.getstatus()\n",
      "old"
     ],
     "language": "python",
     "metadata": {},
     "outputs": [
      {
       "metadata": {},
       "output_type": "pyout",
       "prompt_number": 12,
       "text": [
        "array([ 1.,  0.,  0.,  1.,  0.,  0.,  0.,  1.,  0.,  0.,  1.,  0.,  0.,\n",
        "        1.,  0.,  0.,  0.,  0.,  0.,  1.,  0.,  0.,  1.,  0.,  0.,  0.,\n",
        "        0.,  0.,  0.,  0.,  0.,  1.,  0.,  1.,  0.,  0.,  0.,  1.,  0.,\n",
        "        0.,  0.,  0.,  0.,  0.,  0.,  0.,  1.,  0.,  0.,  0.,  1.,  0.,\n",
        "        0.,  0.,  1.,  1.,  0.,  0.,  0.,  0.,  0.,  0.,  1.,  0.,  1.,\n",
        "        0.,  0.,  0.,  0.,  0.,  1.,  0.,  0.,  0.,  1.,  1.,  0.,  1.,\n",
        "        0.,  0.,  0.,  0.,  1.,  0.,  1.,  0.,  0.,  1.,  0.,  0.,  0.,\n",
        "        0.,  0.,  1.,  0.,  1.,  0.,  0.,  0.,  0.])"
       ]
      }
     ],
     "prompt_number": 12
    },
    {
     "cell_type": "code",
     "collapsed": false,
     "input": [
      "# SIS update, single\n",
      "beta_ = 1.5*.005/4\n",
      "gamma_ = .005\n",
      "s.sis_update(beta_, gamma_, nsteps=1, update=True, ret=True)"
     ],
     "language": "python",
     "metadata": {},
     "outputs": [
      {
       "metadata": {},
       "output_type": "pyout",
       "prompt_number": 13,
       "text": [
        "array([ 1.,  0.,  0.,  1.,  0.,  0.,  0.,  1.,  0.,  0.,  1.,  0.,  0.,\n",
        "        1.,  0.,  0.,  0.,  0.,  0.,  1.,  0.,  0.,  1.,  0.,  0.,  0.,\n",
        "        0.,  0.,  0.,  0.,  0.,  1.,  0.,  1.,  0.,  0.,  0.,  1.,  0.,\n",
        "        0.,  0.,  0.,  0.,  0.,  0.,  0.,  1.,  0.,  0.,  0.,  1.,  0.,\n",
        "        0.,  0.,  1.,  1.,  0.,  0.,  0.,  0.,  0.,  0.,  1.,  0.,  1.,\n",
        "        0.,  0.,  0.,  0.,  0.,  1.,  0.,  0.,  0.,  1.,  1.,  0.,  1.,\n",
        "        0.,  0.,  0.,  0.,  1.,  0.,  1.,  0.,  0.,  1.,  0.,  0.,  0.,\n",
        "        0.,  0.,  1.,  0.,  1.,  0.,  0.,  0.,  0.])"
       ]
      }
     ],
     "prompt_number": 13
    },
    {
     "cell_type": "code",
     "collapsed": false,
     "input": [
      "# SIS update, multiple\n",
      "s.sis_update(beta_, gamma_, nsteps=200, update=True, ret=True)"
     ],
     "language": "python",
     "metadata": {},
     "outputs": [
      {
       "metadata": {},
       "output_type": "pyout",
       "prompt_number": 14,
       "text": [
        "array([ 1.,  0.,  0.,  1.,  0.,  0.,  0.,  0.,  0.,  0.,  1.,  0.,  0.,\n",
        "        1.,  0.,  0.,  0.,  0.,  0.,  0.,  0.,  0.,  0.,  0.,  0.,  0.,\n",
        "        0.,  0.,  1.,  0.,  0.,  0.,  0.,  1.,  0.,  0.,  0.,  1.,  1.,\n",
        "        0.,  0.,  0.,  0.,  1.,  0.,  0.,  0.,  0.,  0.,  1.,  0.,  0.,\n",
        "        0.,  0.,  1.,  0.,  1.,  0.,  0.,  0.,  0.,  0.,  1.,  0.,  0.,\n",
        "        0.,  1.,  0.,  0.,  0.,  1.,  0.,  0.,  1.,  0.,  0.,  0.,  1.,\n",
        "        1.,  0.,  0.,  1.,  0.,  0.,  1.,  0.,  0.,  0.,  0.,  0.,  0.,\n",
        "        0.,  0.,  0.,  0.,  1.,  0.,  0.,  1.,  0.])"
       ]
      }
     ],
     "prompt_number": 14
    },
    {
     "cell_type": "code",
     "collapsed": false,
     "input": [
      "# Show where changes have occurred\n",
      "numpy.where(old != s.getstatus())"
     ],
     "language": "python",
     "metadata": {},
     "outputs": [
      {
       "metadata": {},
       "output_type": "pyout",
       "prompt_number": 15,
       "text": [
        "(array([ 7, 19, 22, 28, 31, 38, 43, 46, 49, 50, 55, 56, 64, 66, 73, 74, 75,\n",
        "       78, 81, 82, 87, 93, 98]),)"
       ]
      }
     ],
     "prompt_number": 15
    },
    {
     "cell_type": "code",
     "collapsed": false,
     "input": [
      "# SIRS\n",
      "s.initstatus()\n",
      "s.infect_n(50)\n",
      "s.rec_n(10)\n",
      "old = s.getstatus()\n",
      "old"
     ],
     "language": "python",
     "metadata": {},
     "outputs": [
      {
       "metadata": {},
       "output_type": "pyout",
       "prompt_number": 16,
       "text": [
        "array([ 1.,  0.,  0.,  1.,  1.,  0.,  0.,  1.,  1.,  1.,  1.,  1.,  0.,\n",
        "        0.,  1.,  1.,  0.,  0.,  1.,  0.,  0.,  1.,  1.,  1.,  1.,  0.,\n",
        "        0.,  0.,  0.,  0.,  2.,  2.,  2.,  2.,  1.,  0.,  0.,  0.,  0.,\n",
        "        2.,  1.,  1.,  0.,  1.,  1.,  0.,  0.,  1.,  0.,  0.,  0.,  0.,\n",
        "        1.,  0.,  2.,  0.,  0.,  2.,  0.,  2.,  1.,  0.,  0.,  1.,  1.,\n",
        "        0.,  1.,  1.,  1.,  0.,  1.,  1.,  0.,  1.,  0.,  1.,  1.,  1.,\n",
        "        0.,  0.,  1.,  0.,  0.,  1.,  2.,  1.,  1.,  0.,  0.,  2.,  1.,\n",
        "        1.,  0.,  1.,  1.,  0.,  1.,  1.,  0.,  1.])"
       ]
      }
     ],
     "prompt_number": 16
    },
    {
     "cell_type": "code",
     "collapsed": false,
     "input": [
      "# SIRS update, single\n",
      "beta_ = 2.*.005/4\n",
      "gamma_ = .005\n",
      "rho_ = .01\n",
      "s.sirs_update(beta_, gamma_, rho_, nsteps = 1, update = True, ret = True)"
     ],
     "language": "python",
     "metadata": {},
     "outputs": [
      {
       "metadata": {},
       "output_type": "pyout",
       "prompt_number": 17,
       "text": [
        "array([ 1.,  0.,  0.,  1.,  1.,  0.,  0.,  1.,  1.,  1.,  1.,  1.,  0.,\n",
        "        0.,  1.,  1.,  0.,  0.,  1.,  0.,  0.,  1.,  1.,  1.,  1.,  0.,\n",
        "        0.,  0.,  0.,  0.,  2.,  2.,  2.,  2.,  1.,  0.,  0.,  0.,  0.,\n",
        "        2.,  1.,  1.,  0.,  1.,  1.,  0.,  0.,  1.,  0.,  0.,  0.,  0.,\n",
        "        1.,  0.,  2.,  0.,  0.,  2.,  0.,  2.,  1.,  0.,  0.,  1.,  1.,\n",
        "        0.,  1.,  1.,  1.,  0.,  1.,  1.,  0.,  1.,  0.,  1.,  1.,  1.,\n",
        "        0.,  0.,  1.,  0.,  0.,  1.,  2.,  1.,  1.,  0.,  0.,  2.,  1.,\n",
        "        1.,  0.,  1.,  1.,  0.,  1.,  1.,  0.,  1.])"
       ]
      }
     ],
     "prompt_number": 17
    },
    {
     "cell_type": "code",
     "collapsed": false,
     "input": [
      "# SIRS update, multiple\n",
      "s.sirs_update(beta_, gamma_, rho_, nsteps = 100, update = True, ret = True)"
     ],
     "language": "python",
     "metadata": {},
     "outputs": [
      {
       "metadata": {},
       "output_type": "pyout",
       "prompt_number": 18,
       "text": [
        "array([ 1.,  1.,  0.,  1.,  1.,  1.,  0.,  1.,  1.,  2.,  1.,  1.,  0.,\n",
        "        0.,  2.,  1.,  1.,  0.,  1.,  1.,  1.,  2.,  1.,  1.,  0.,  0.,\n",
        "        2.,  0.,  0.,  1.,  2.,  0.,  2.,  2.,  1.,  0.,  1.,  1.,  0.,\n",
        "        2.,  2.,  1.,  0.,  1.,  1.,  0.,  0.,  2.,  0.,  0.,  0.,  0.,\n",
        "        1.,  1.,  2.,  0.,  0.,  0.,  0.,  2.,  2.,  0.,  0.,  1.,  2.,\n",
        "        0.,  1.,  2.,  1.,  0.,  1.,  0.,  0.,  0.,  0.,  2.,  2.,  1.,\n",
        "        1.,  1.,  1.,  0.,  0.,  2.,  2.,  0.,  1.,  1.,  0.,  2.,  1.,\n",
        "        2.,  0.,  2.,  2.,  0.,  1.,  2.,  0.,  2.])"
       ]
      }
     ],
     "prompt_number": 18
    },
    {
     "cell_type": "code",
     "collapsed": false,
     "input": [
      "# Show where changes have occurred\n",
      "numpy.where(old != s.getstatus())"
     ],
     "language": "python",
     "metadata": {},
     "outputs": [
      {
       "metadata": {},
       "output_type": "pyout",
       "prompt_number": 19,
       "text": [
        "(array([ 1,  5,  9, 14, 16, 19, 20, 21, 24, 26, 29, 31, 36, 37, 40, 47, 53,\n",
        "       57, 60, 64, 67, 71, 73, 75, 76, 78, 79, 83, 85, 87, 91, 93, 94, 97,\n",
        "       99]),)"
       ]
      }
     ],
     "prompt_number": 19
    },
    {
     "cell_type": "heading",
     "level": 3,
     "metadata": {},
     "source": [
      "Residual degree distribution"
     ]
    },
    {
     "cell_type": "code",
     "collapsed": false,
     "input": [
      "rpk = residual_p_degree(s, False)\n",
      "rpk\n",
      "plot(rpk.keys(), rpk.values())"
     ],
     "language": "python",
     "metadata": {},
     "outputs": [
      {
       "metadata": {},
       "output_type": "pyout",
       "prompt_number": 20,
       "text": [
        "[<matplotlib.lines.Line2D at 0x10b757210>]"
       ]
      },
      {
       "metadata": {},
       "output_type": "display_data",
       "png": "[encoded data removed]",
       "text": [
        "<matplotlib.figure.Figure at 0x109925890>"
       ]
      }
     ],
     "prompt_number": 20
    },
    {
     "cell_type": "code",
     "collapsed": false,
     "input": [
      "# Connected Components of Residual Network\n",
      "connectedcomponents(g,s)"
     ],
     "language": "python",
     "metadata": {},
     "outputs": [
      {
       "metadata": {},
       "output_type": "pyout",
       "prompt_number": 21,
       "text": [
        "2"
       ]
      }
     ],
     "prompt_number": 21
    },
    {
     "cell_type": "code",
     "collapsed": false,
     "input": [
      "resids = np.hstack([s.infecteds(), s.susceptibles()])\n",
      "gsub = nx.connected_component_subgraphs(g.subgraph(resids))"
     ],
     "language": "python",
     "metadata": {},
     "outputs": [],
     "prompt_number": 22
    },
    {
     "cell_type": "code",
     "collapsed": false,
     "input": [
      "gsub[-1].nodes()"
     ],
     "language": "python",
     "metadata": {},
     "outputs": [
      {
       "metadata": {},
       "output_type": "pyout",
       "prompt_number": 23,
       "text": [
        "[48]"
       ]
      }
     ],
     "prompt_number": 23
    },
    {
     "cell_type": "heading",
     "level": 3,
     "metadata": {},
     "source": [
      "Generate a single trajectory"
     ]
    },
    {
     "cell_type": "code",
     "collapsed": false,
     "input": [
      "beta_ = 2.*.005/4\n",
      "gamma_ = .005\n",
      "rho_ = .01\n",
      "simsirs(s, g, beta_, gamma_, rho_, 10, mft = True, debug = True)"
     ],
     "language": "python",
     "metadata": {},
     "outputs": [
      {
       "output_type": "stream",
       "stream": "stdout",
       "text": [
        "Begin equilibrating SIRS 0.005 0.01 Tue Nov 25 21:23:44 2014\n",
        "Finished equilibrating, begin SIRS measurements"
       ]
      },
      {
       "output_type": "stream",
       "stream": "stdout",
       "text": [
        " 0.005 0.01 Tue Nov 25 21:23:49 2014\n"
       ]
      },
      {
       "metadata": {},
       "output_type": "pyout",
       "prompt_number": 3,
       "text": [
        "(array([[12, 23, 19,  9, 23, 15, 12, 12, 12, 14],\n",
        "       [73, 64, 64, 80, 63, 74, 74, 67, 69, 71]]),\n",
        " array([ 3.6 ,  3.64,  3.21,  3.72,  3.72,  3.7 ,  3.5 ,  3.32,  3.31,  3.48]),\n",
        " array([ 16.68,  16.64,  12.81,  17.16,  17.76,  17.06,  15.74,  14.16,\n",
        "        14.09,  15.04]),\n",
        " array([3, 1, 4, 1, 3, 1, 2, 3, 7, 2]))"
       ]
      }
     ],
     "prompt_number": 3
    },
    {
     "cell_type": "heading",
     "level": 3,
     "metadata": {},
     "source": [
      "Generate a (miniature) phase diagram"
     ]
    },
    {
     "cell_type": "code",
     "collapsed": false,
     "input": [
      "g = poisson_graph(1000, 4./1000, 1)\n",
      "s = Substrate(g)"
     ],
     "language": "python",
     "metadata": {},
     "outputs": [],
     "prompt_number": 3
    },
    {
     "cell_type": "code",
     "collapsed": false,
     "input": [
      "R0s = np.array([1, 2, 5, 10]);\n",
      "alphas = np.array([.1, .3, 1, 3, 10])\n",
      "gamma_ = .005\n",
      "idata, mdata, m2data, ccdata = sirs_diagram(g, gamma_, R0s, alphas, nobs = 10, \n",
      "                                            mft = True, prev = None, debug = True)"
     ],
     "language": "python",
     "metadata": {},
     "outputs": [
      {
       "output_type": "stream",
       "stream": "stdout",
       "text": [
        "Begin equilibrating SIRS 0.00125062531266 0.0005 Tue Nov 25 21:59:05 2014\n",
        "Begin equilibrating SIRS"
       ]
      },
      {
       "output_type": "stream",
       "stream": "stdout",
       "text": [
        " 0.00250125062531 0.0005 Tue Nov 25 21:59:06 2014\n",
        "Begin equilibrating SIRS"
       ]
      },
      {
       "output_type": "stream",
       "stream": "stdout",
       "text": [
        " 0.00625312656328 0.0005 Tue Nov 25 21:59:06 2014\n",
        "Begin equilibrating SIRS"
       ]
      },
      {
       "output_type": "stream",
       "stream": "stdout",
       "text": [
        " 0.0125062531266 0.0005 Tue Nov 25 21:59:07 2014\n",
        "Finished equilibrating, begin SIRS measurements"
       ]
      },
      {
       "output_type": "stream",
       "stream": "stdout",
       "text": [
        " 0.0125062531266 0.0005 Tue Nov 25 21:59:10 2014\n",
        "Begin equilibrating SIRS"
       ]
      },
      {
       "output_type": "stream",
       "stream": "stdout",
       "text": [
        " 0.00125062531266 0.0015 Tue Nov 25 21:59:11 2014\n",
        "Begin equilibrating SIRS"
       ]
      },
      {
       "output_type": "stream",
       "stream": "stdout",
       "text": [
        " 0.00250125062531 0.0015 Tue Nov 25 21:59:12 2014\n",
        "Finished equilibrating, begin SIRS measurements"
       ]
      },
      {
       "output_type": "stream",
       "stream": "stdout",
       "text": [
        " 0.00250125062531 0.0015 Tue Nov 25 21:59:15 2014\n",
        "Begin equilibrating SIRS"
       ]
      },
      {
       "output_type": "stream",
       "stream": "stdout",
       "text": [
        " 0.00625312656328 0.0015 Tue Nov 25 21:59:17 2014\n",
        "Finished equilibrating, begin SIRS measurements"
       ]
      },
      {
       "output_type": "stream",
       "stream": "stdout",
       "text": [
        " 0.00625312656328 0.0015 Tue Nov 25 21:59:19 2014\n",
        "Begin equilibrating SIRS"
       ]
      },
      {
       "output_type": "stream",
       "stream": "stdout",
       "text": [
        " 0.0125062531266 0.0015 Tue Nov 25 21:59:21 2014\n",
        "Finished equilibrating, begin SIRS measurements"
       ]
      },
      {
       "output_type": "stream",
       "stream": "stdout",
       "text": [
        " 0.0125062531266 0.0015 Tue Nov 25 21:59:24 2014\n",
        "Begin equilibrating SIRS"
       ]
      },
      {
       "output_type": "stream",
       "stream": "stdout",
       "text": [
        " 0.00125062531266 0.005 Tue Nov 25 21:59:26 2014\n",
        "Begin equilibrating SIRS"
       ]
      },
      {
       "output_type": "stream",
       "stream": "stdout",
       "text": [
        " 0.00250125062531 0.005 Tue Nov 25 21:59:26 2014\n",
        "Finished equilibrating, begin SIRS measurements"
       ]
      },
      {
       "output_type": "stream",
       "stream": "stdout",
       "text": [
        " 0.00250125062531 0.005 Tue Nov 25 21:59:29 2014\n",
        "Begin equilibrating SIRS"
       ]
      },
      {
       "output_type": "stream",
       "stream": "stdout",
       "text": [
        " 0.00625312656328 0.005 Tue Nov 25 21:59:31 2014\n",
        "Finished equilibrating, begin SIRS measurements"
       ]
      },
      {
       "output_type": "stream",
       "stream": "stdout",
       "text": [
        " 0.00625312656328 0.005 Tue Nov 25 21:59:34 2014\n",
        "Begin equilibrating SIRS"
       ]
      },
      {
       "output_type": "stream",
       "stream": "stdout",
       "text": [
        " 0.0125062531266 0.005 Tue Nov 25 21:59:36 2014\n",
        "Finished equilibrating, begin SIRS measurements"
       ]
      },
      {
       "output_type": "stream",
       "stream": "stdout",
       "text": [
        " 0.0125062531266 0.005 Tue Nov 25 21:59:39 2014\n",
        "Begin equilibrating SIRS"
       ]
      },
      {
       "output_type": "stream",
       "stream": "stdout",
       "text": [
        " 0.00125062531266 0.015 Tue Nov 25 21:59:41 2014\n",
        "Begin equilibrating SIRS"
       ]
      },
      {
       "output_type": "stream",
       "stream": "stdout",
       "text": [
        " 0.00250125062531 0.015 Tue Nov 25 21:59:42 2014\n",
        "Finished equilibrating, begin SIRS measurements"
       ]
      },
      {
       "output_type": "stream",
       "stream": "stdout",
       "text": [
        " 0.00250125062531 0.015 Tue Nov 25 21:59:45 2014\n",
        "Begin equilibrating SIRS"
       ]
      },
      {
       "output_type": "stream",
       "stream": "stdout",
       "text": [
        " 0.00625312656328 0.015 Tue Nov 25 21:59:47 2014\n",
        "Finished equilibrating, begin SIRS measurements"
       ]
      },
      {
       "output_type": "stream",
       "stream": "stdout",
       "text": [
        " 0.00625312656328 0.015 Tue Nov 25 21:59:50 2014\n",
        "Begin equilibrating SIRS"
       ]
      },
      {
       "output_type": "stream",
       "stream": "stdout",
       "text": [
        " 0.0125062531266 0.015 Tue Nov 25 21:59:52 2014\n",
        "Finished equilibrating, begin SIRS measurements"
       ]
      },
      {
       "output_type": "stream",
       "stream": "stdout",
       "text": [
        " 0.0125062531266 0.015 Tue Nov 25 21:59:55 2014\n",
        "Begin equilibrating SIRS"
       ]
      },
      {
       "output_type": "stream",
       "stream": "stdout",
       "text": [
        " 0.00125062531266 0.05 Tue Nov 25 21:59:57 2014\n",
        "Begin equilibrating SIRS"
       ]
      },
      {
       "output_type": "stream",
       "stream": "stdout",
       "text": [
        " 0.00250125062531 0.05 Tue Nov 25 21:59:58 2014\n",
        "Finished equilibrating, begin SIRS measurements"
       ]
      },
      {
       "output_type": "stream",
       "stream": "stdout",
       "text": [
        " 0.00250125062531 0.05 Tue Nov 25 22:00:01 2014\n",
        "Begin equilibrating SIRS"
       ]
      },
      {
       "output_type": "stream",
       "stream": "stdout",
       "text": [
        " 0.00625312656328 0.05 Tue Nov 25 22:00:03 2014\n",
        "Finished equilibrating, begin SIRS measurements"
       ]
      },
      {
       "output_type": "stream",
       "stream": "stdout",
       "text": [
        " 0.00625312656328 0.05 Tue Nov 25 22:00:07 2014\n",
        "Begin equilibrating SIRS"
       ]
      },
      {
       "output_type": "stream",
       "stream": "stdout",
       "text": [
        " 0.0125062531266 0.05 Tue Nov 25 22:00:09 2014\n",
        "Finished equilibrating, begin SIRS measurements"
       ]
      },
      {
       "output_type": "stream",
       "stream": "stdout",
       "text": [
        " 0.0125062531266 0.05 Tue Nov 25 22:00:12 2014\n"
       ]
      }
     ],
     "prompt_number": 4
    },
    {
     "cell_type": "code",
     "collapsed": false,
     "input": [
      "data_params(idata)"
     ],
     "language": "python",
     "metadata": {},
     "outputs": [
      {
       "metadata": {},
       "output_type": "pyout",
       "prompt_number": 5,
       "text": [
        "(array([  0.1,   0.3,   1. ,   3. ,  10. ]), array([  1.,   2.,   5.,  10.]))"
       ]
      }
     ],
     "prompt_number": 5
    },
    {
     "cell_type": "code",
     "collapsed": false,
     "input": [
      "a = avg_idata(idata, 1)\n",
      "f = fluct(idata, 1)\n",
      "ff = frac_fluct(idata, 1)"
     ],
     "language": "python",
     "metadata": {},
     "outputs": [],
     "prompt_number": 6
    },
    {
     "cell_type": "code",
     "collapsed": false,
     "input": [
      "colormap(a, alphas, R0s, p = True, logx = True, ret = False)"
     ],
     "language": "python",
     "metadata": {},
     "outputs": [
      {
       "metadata": {},
       "output_type": "display_data",
       "png": "[encoded data removed]",
       "text": [
        "<matplotlib.figure.Figure at 0x109a23a90>"
       ]
      }
     ],
     "prompt_number": 7
    },
    {
     "cell_type": "code",
     "collapsed": false,
     "input": [
      "colormap(f, alphas, R0s, p = True, logx = True, ret = False)"
     ],
     "language": "python",
     "metadata": {},
     "outputs": [
      {
       "metadata": {},
       "output_type": "display_data",
       "png": "[encoded data removed]",
       "text": [
        "<matplotlib.figure.Figure at 0x10ba5fbd0>"
       ]
      }
     ],
     "prompt_number": 8
    },
    {
     "cell_type": "code",
     "collapsed": false,
     "input": [
      "colormap(ff, alphas, R0s, p = True, logx = True, ret = False)"
     ],
     "language": "python",
     "metadata": {},
     "outputs": [
      {
       "metadata": {},
       "output_type": "display_data",
       "png": "[encoded data removed]",
       "text": [
        "<matplotlib.figure.Figure at 0x109e13690>"
       ]
      }
     ],
     "prompt_number": 9
    }
   ],
   "metadata": {}
  }
 ]
}